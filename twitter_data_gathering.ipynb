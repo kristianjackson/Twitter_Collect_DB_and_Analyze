{
 "cells": [
  {
   "cell_type": "markdown",
   "metadata": {},
   "source": [
    "[Tutorial](https://www.analyticsvidhya.com/blog/2020/08/analysing-streaming-tweets-with-python-and-postgresql/)"
   ]
  },
  {
   "cell_type": "code",
   "execution_count": 1,
   "metadata": {},
   "outputs": [],
   "source": [
    "import tweepy\n",
    "import os\n",
    "import psycopg2\n",
    "import time\n",
    "from dotenv import load_dotenv\n",
    "\n",
    "load_dotenv()\n",
    "\n",
    "api_key = os.getenv(\"API_KEY\")\n",
    "api_secret_key = os.getenv(\"API_SECRET\")\n",
    "access_token = os.getenv(\"ACCESS_TOKEN\")\n",
    "access_token_secret = os.getenv(\"ACCESS_TOKEN_SECRET\")\n",
    "pg_user = os.getenv(\"PG_USER\")\n",
    "pg_password = os.getenv(\"PG_PASSWORD\")\n",
    "pg_host = os.getenv(\"PG_HOST\")\n",
    "pg_port = os.getenv(\"PG_PORT\")\n",
    "pg_db = os.getenv(\"PG_DB\")\n",
    "\n",
    "auth = tweepy.OAuthHandler(api_key, api_secret_key)\n",
    "auth.set_access_token(access_token, access_token_secret)\n",
    "\n",
    "api = tweepy.API(auth)\n",
    "\n",
    "conn = psycopg2.connect(host=pg_host, database=pg_db, port=pg_port, user=pg_user, password=pg_password)"
   ]
  },
  {
   "cell_type": "code",
   "execution_count": 2,
   "metadata": {},
   "outputs": [
    {
     "name": "stdout",
     "output_type": "stream",
     "text": [
      "--> I’m gonna miss these two savages when I flee this burning state.  They’re hilarious, brutal, smart as fuck and they… https://t.co/9dfPrsvaih\n",
      "--> Thank you! We were all going into the unknown so I was thrilled to accept the award ❤️❤️❤️ https://t.co/b4JCSRSVvZ\n",
      "--> More than 771k acres have burned in just the last 6 days in California. Look at the satellite image on the right —… https://t.co/fhhwxre0rA\n",
      "--> Have a question for our speaker about GPU computing in Python? 🙋‍♀️ Leave it here in the comments.\n"
     ]
    }
   ],
   "source": [
    "public_tweet = api.home_timeline(count=5)\n",
    "\n",
    "for tweet in public_tweet:\n",
    "    print(\"-->\", tweet.text)"
   ]
  },
  {
   "cell_type": "code",
   "execution_count": 3,
   "metadata": {},
   "outputs": [
    {
     "name": "stdout",
     "output_type": "stream",
     "text": [
      "dict_keys(['created_at', 'id', 'id_str', 'text', 'truncated', 'entities', 'metadata', 'source', 'in_reply_to_status_id', 'in_reply_to_status_id_str', 'in_reply_to_user_id', 'in_reply_to_user_id_str', 'in_reply_to_screen_name', 'user', 'geo', 'coordinates', 'place', 'contributors', 'retweeted_status', 'is_quote_status', 'retweet_count', 'favorite_count', 'favorited', 'retweeted', 'lang'])\n"
     ]
    }
   ],
   "source": [
    "result = api.search(['covid', 'Covid-19'], lang='en', count=10)\n",
    "\n",
    "print(result[0]._json.keys())"
   ]
  },
  {
   "cell_type": "code",
   "execution_count": 4,
   "metadata": {},
   "outputs": [
    {
     "name": "stdout",
     "output_type": "stream",
     "text": [
      "{'id': 950480871131291648, 'id_str': '950480871131291648', 'name': 'Therisa', 'screen_name': 'justCDNTherisa', 'location': 'Toronto , Ontario', 'description': 'A great leader must first be a great human being who will only lead with love but never ignore the hate! #BLACKLIVESMATTER #BREONNATAYLOR #WEARADAMNMASK', 'url': None, 'entities': {'description': {'urls': []}}, 'protected': False, 'followers_count': 4860, 'friends_count': 3184, 'listed_count': 3, 'created_at': 'Mon Jan 08 21:34:33 +0000 2018', 'favourites_count': 12652, 'utc_offset': None, 'time_zone': None, 'geo_enabled': False, 'verified': False, 'statuses_count': 9373, 'lang': None, 'contributors_enabled': False, 'is_translator': False, 'is_translation_enabled': False, 'profile_background_color': 'F5F8FA', 'profile_background_image_url': None, 'profile_background_image_url_https': None, 'profile_background_tile': False, 'profile_image_url': 'http://pbs.twimg.com/profile_images/1034209403413483522/hR3XwiHq_normal.jpg', 'profile_image_url_https': 'https://pbs.twimg.com/profile_images/1034209403413483522/hR3XwiHq_normal.jpg', 'profile_link_color': '1DA1F2', 'profile_sidebar_border_color': 'C0DEED', 'profile_sidebar_fill_color': 'DDEEF6', 'profile_text_color': '333333', 'profile_use_background_image': True, 'has_extended_profile': True, 'default_profile': True, 'default_profile_image': False, 'following': False, 'follow_request_sent': False, 'notifications': False, 'translator_type': 'none'}\n"
     ]
    }
   ],
   "source": [
    "print(result[0].user._json)"
   ]
  },
  {
   "cell_type": "code",
   "execution_count": 5,
   "metadata": {},
   "outputs": [
    {
     "name": "stdout",
     "output_type": "stream",
     "text": [
      "[]\n"
     ]
    }
   ],
   "source": [
    "print(result[4].entities['hashtags'])"
   ]
  },
  {
   "cell_type": "code",
   "execution_count": 6,
   "metadata": {},
   "outputs": [],
   "source": [
    "class MyStreamListener(tweepy.StreamListener):\n",
    "    \n",
    "    def __init__(self, time_limit=300):\n",
    "        self.start_time = time.time()\n",
    "        self.limit = time_limit\n",
    "        super(MyStreamListener, self).__init__()\n",
    "    \n",
    "    def on_connect(self):\n",
    "        print(\"Connected to Twitter API.\")\n",
    "        \n",
    "    def on_status(self, status):\n",
    "        \n",
    "        \n",
    "        # Tweet ID\n",
    "        tweet_id = status.id\n",
    "        \n",
    "        # User ID\n",
    "        user_id = status.user.id\n",
    "        # Username\n",
    "        username = status.user.name\n",
    "        \n",
    "        \n",
    "        # Tweet\n",
    "        if status.truncated == True:\n",
    "            tweet = status.extended_tweet['full_text']\n",
    "            hashtags = status.extended_tweet['entities']['hashtags']\n",
    "        else:\n",
    "            tweet = status.text\n",
    "            hashtags = status.entities['hashtags']\n",
    "        \n",
    "        # Read hastags\n",
    "        hashtags = read_hashtags(hashtags)            \n",
    "        \n",
    "        # Retweet count\n",
    "        retweet_count = status.retweet_count\n",
    "        # Language\n",
    "        lang = status.lang\n",
    "        \n",
    "        \n",
    "        # If tweet is not a retweet and tweet is in English\n",
    "        if not hasattr(status, \"retweeted_status\") and lang==\"en\":\n",
    "            # Connect to database\n",
    "            dbConnect(user_id, username, tweet_id, tweet, retweet_count, hashtags)\n",
    "            \n",
    "        if (time.time() - self.start_time) > self.limit:\n",
    "            \n",
    "            print(time.time(), self.start_time, self.limit)\n",
    "            return False\n",
    "            \n",
    "    def on_error(self, status_code):\n",
    "        if status_code == 420:\n",
    "            # Returning False in on_data disconnects the stream\n",
    "            return False"
   ]
  },
  {
   "cell_type": "code",
   "execution_count": 7,
   "metadata": {},
   "outputs": [],
   "source": [
    "def read_hashtags(tag_list):\n",
    "    hashtags = []\n",
    "    for tag in tag_list:\n",
    "        hashtags.append(tag['text'])\n",
    "    return hashtags"
   ]
  },
  {
   "cell_type": "code",
   "execution_count": 8,
   "metadata": {},
   "outputs": [],
   "source": [
    "# # Table creation\n",
    "# commands = (# Table 1\n",
    "#             '''Create Table TwitterUser(User_Id BIGINT PRIMARY KEY, User_Name TEXT);''',\n",
    "#             # Table 2\n",
    "#             '''Create Table TwitterTweet(Tweet_Id BIGINT PRIMARY KEY,\n",
    "#                                          User_Id BIGINT,\n",
    "#                                          Tweet TEXT,\n",
    "#                                          Retweet_Count INT,\n",
    "#                                          CONSTRAINT fk_user\n",
    "#                                              FOREIGN KEY(User_Id)\n",
    "#                                                  REFERENCES TwitterUser(User_Id));''',\n",
    "#             # Table 3\n",
    "#             '''Create Table TwitterEntity(Id SERIAL PRIMARY KEY,\n",
    "#                                          Tweet_Id BIGINT,\n",
    "#                                          Hashtag TEXT,\n",
    "#                                          CONSTRAINT fk_user\n",
    "#                                              FOREIGN KEY(Tweet_Id)\n",
    "#                                                  REFERENCES TwitterTweet(Tweet_Id));''')\n"
   ]
  },
  {
   "cell_type": "code",
   "execution_count": 9,
   "metadata": {},
   "outputs": [
    {
     "ename": "DuplicateTable",
     "evalue": "relation \"twitteruser\" already exists\n",
     "output_type": "error",
     "traceback": [
      "\u001b[1;31m---------------------------------------------------------------------------\u001b[0m",
      "\u001b[1;31mDuplicateTable\u001b[0m                            Traceback (most recent call last)",
      "\u001b[1;32m<ipython-input-9-3ccb11f84906>\u001b[0m in \u001b[0;36m<module>\u001b[1;34m\u001b[0m\n\u001b[0;32m      2\u001b[0m \u001b[1;33m\u001b[0m\u001b[0m\n\u001b[0;32m      3\u001b[0m \u001b[1;32mfor\u001b[0m \u001b[0mcommand\u001b[0m \u001b[1;32min\u001b[0m \u001b[0mcommands\u001b[0m\u001b[1;33m:\u001b[0m\u001b[1;33m\u001b[0m\u001b[1;33m\u001b[0m\u001b[0m\n\u001b[1;32m----> 4\u001b[1;33m     \u001b[0mcur\u001b[0m\u001b[1;33m.\u001b[0m\u001b[0mexecute\u001b[0m\u001b[1;33m(\u001b[0m\u001b[0mcommand\u001b[0m\u001b[1;33m)\u001b[0m\u001b[1;33m\u001b[0m\u001b[1;33m\u001b[0m\u001b[0m\n\u001b[0m\u001b[0;32m      5\u001b[0m \u001b[1;33m\u001b[0m\u001b[0m\n\u001b[0;32m      6\u001b[0m \u001b[0mconn\u001b[0m\u001b[1;33m.\u001b[0m\u001b[0mcommit\u001b[0m\u001b[1;33m(\u001b[0m\u001b[1;33m)\u001b[0m\u001b[1;33m\u001b[0m\u001b[1;33m\u001b[0m\u001b[0m\n",
      "\u001b[1;31mDuplicateTable\u001b[0m: relation \"twitteruser\" already exists\n"
     ]
    }
   ],
   "source": [
    "# cur = conn.cursor()\n",
    "\n",
    "# for command in commands:\n",
    "#     cur.execute(command)\n",
    "    \n",
    "# conn.commit()\n",
    "# cur.close()\n",
    "# conn.close()"
   ]
  },
  {
   "cell_type": "code",
   "execution_count": 10,
   "metadata": {},
   "outputs": [],
   "source": [
    "def dbConnect(user_id, user_name, tweet_id, tweet, retweet_count, hashtags):\n",
    "    \n",
    "    conn = psycopg2.connect(host=pg_host, database=pg_db ,port=pg_port, user=pg_user, password=pg_password)\n",
    "    \n",
    "    cur = conn.cursor()\n",
    "\n",
    "    # insert user information\n",
    "    command = '''INSERT INTO TwitterUser (user_id, user_name) VALUES (%s,%s) ON CONFLICT\n",
    "                 (User_Id) DO NOTHING;'''\n",
    "    cur.execute(command,(user_id,user_name))\n",
    "\n",
    "    # insert tweet information\n",
    "    command = '''INSERT INTO TwitterTweet (tweet_id, user_id, tweet, retweet_count) VALUES (%s,%s,%s,%s);'''\n",
    "    cur.execute(command,(tweet_id, user_id, tweet, retweet_count))\n",
    "    \n",
    "    # insert entity information\n",
    "    for i in range(len(hashtags)):\n",
    "        hashtag = hashtags[i]\n",
    "        command = '''INSERT INTO TwitterEntity (tweet_id, hashtag) VALUES (%s,%s);'''\n",
    "        cur.execute(command,(tweet_id, hashtag))\n",
    "    \n",
    "    # Commit changes\n",
    "    conn.commit()\n",
    "    \n",
    "    # Disconnect\n",
    "    cur.close()\n",
    "    conn.close()"
   ]
  },
  {
   "cell_type": "code",
   "execution_count": null,
   "metadata": {},
   "outputs": [
    {
     "name": "stdout",
     "output_type": "stream",
     "text": [
      "Connected to Twitter API.\n"
     ]
    }
   ],
   "source": [
    "myStreamListener = MyStreamListener()\n",
    "myStream = tweepy.Stream(auth=api.auth, listener=myStreamListener, tweet_mode=\"extended\")\n",
    "myStream.filter(track=['Covid', 'covid-19'])"
   ]
  },
  {
   "cell_type": "code",
   "execution_count": null,
   "metadata": {},
   "outputs": [],
   "source": []
  }
 ],
 "metadata": {
  "kernelspec": {
   "display_name": "Python 3",
   "language": "python",
   "name": "python3"
  },
  "language_info": {
   "codemirror_mode": {
    "name": "ipython",
    "version": 3
   },
   "file_extension": ".py",
   "mimetype": "text/x-python",
   "name": "python",
   "nbconvert_exporter": "python",
   "pygments_lexer": "ipython3",
   "version": "3.7.4"
  }
 },
 "nbformat": 4,
 "nbformat_minor": 4
}
